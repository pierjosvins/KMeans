{
 "cells": [
  {
   "cell_type": "markdown",
   "metadata": {},
   "source": [
    "<p style=\"font-size: 20px\">\n",
    "    <center>\n",
    "        <b>Auteur</b> : Pierjos Francis <b>COLERE MBOUKOU</b><br/>\n",
    "        <b>Portfolio</b> : <a href=\"https://pierjoscolere.netlify.app\" target=\"_blank\">https://pierjoscolere.netlify.app</a><br/>\n",
    "        <b>Emails</b> : <a href=\"mailto:Pierjos.COLERE@um6p.ma\" target=\"_blank\">Pierjos.COLERE@um6p.ma</a> | <a href=\"mailto:Francis.MBOUKOU@um6p.ma\" target=\"_blank\">Francis.MBOUKOU@um6p.ma</a><br/>\n",
    "    </center>\n",
    "</p>"
   ]
  },
  {
   "cell_type": "markdown",
   "metadata": {},
   "source": [
    "# <center>Implémentation de l'algorithme de K-Means</center>"
   ]
  },
  {
   "cell_type": "markdown",
   "metadata": {},
   "source": [
    "## Introduction"
   ]
  },
  {
   "cell_type": "markdown",
   "metadata": {},
   "source": [
    "<p style=\"font-size: 17px\">\n",
    "    Le clustering ou le partitionnement des données est une méthode de classification non supervisée qui rassemble un ensemble d'algorithmes d'apprentissage dont le but est de regrouper entre elles des données non étiquetées en sous-groupes, ou clusters les homogènes possibles présentant des propriétés similaires. \n",
    "Il existe plusieurs algorithmes de clustering: méthodes hiérarchiques, méthodes centroïdes, méthodes à densité, etc. Pour chaque méthode, il est nécessaire de choisir comment mesurer la similarité entre deux individus ou exemples que nous imaginerons comme deux points de l’espace des réels en dimension p. Ces algorithmes peuvent être appliqués dans divers domaines dont la segmentation des clients, les systèmes de recommandations pour ne citer que cela. Dans ce document, nous nous concentrerons sur les méthodes centroïdes. Pour d'autres méthodes, une large documentation est disponible dans les livres, Internet, etc. La méthode de K-Means, en français K-Moyennes, est la méthode centroïde la plus classique et la plus utilisée.\n",
    "    <br/><br/>\n",
    "    Mais avant que l’intelligence artificielle ne devienne capable de détecter des similarités entre individus, ce sont bien des intelligences humaines qui ont implémenté les algorithmes de clustering en particulier K-Means. C'est ainsi que nous allons reproduire ou implémenter l'algorithme de K-Means en partant de zéro (from Scratch). Pour ce faire, nous allons définir les outils nécessaires permettant de dégager la similarité entre les données avant d'énoncer l'algorithme. Une fois l'algorithme énoncé, nous l'implémenterons en utilisant le langage de programmation informatique le plus populaire : Python. Dans la deuxième grande partie de ce document, afin évaluer notre algorithme nous ferons appel à la base de données CIQUAL 2020.\n",
    "</p>"
   ]
  },
  {
   "cell_type": "markdown",
   "metadata": {},
   "source": [
    "## I - Implémentation de K-Means"
   ]
  },
  {
   "cell_type": "markdown",
   "metadata": {},
   "source": [
    "<p style=\"font-size: 17px\">\n",
    "    Pour implémenter le méthode de K-Means, bon nombre d'outils entrent en compte; parmi eux, la mesure de similarité, l'algorithme lui-même.\n",
    "</p>"
   ]
  },
  {
   "cell_type": "markdown",
   "metadata": {},
   "source": [
    "### 1 - Mesure de similarité"
   ]
  },
  {
   "cell_type": "markdown",
   "metadata": {},
   "source": [
    "<p style=\"font-size: 17px\">\n",
    "    Pour regrouper les données, la méthode K-Means requiert la définition de mesure ou métrique quantifiant la similarité de deux exemples de données. En d'autres termes, on se demande comment décider de la similitude ou non de deux exemples ou objets. On introduit alors la notion mathématique de distance comme outil de similarité, on parle de métrique, ou de dissimilarité [1]. <br/><br/>\n",
    "    <b>Comment peut-on définir la distance ?</b> <br/>\n",
    "    Intuitivement, la distance est l'écart  ou la longueur qui sépare deux points. Ainsi, deux données très similaires sont deux données très proches (petite distance). On appelle, mathématiquement, distance sur un ensemble $E$ toute application d définie sur le produit $E^2 = E \\times E$ et à valeurs dans l'ensemble $\\mathbb{R^+}$ des réels positifs ou nuls,<br/><br/>\n",
    "    <center> $d: E \\times E \\to \\mathbb{R^+}$ </center><br/>\n",
    "</p>\n",
    "<p style=\"font-size: 17px\">\n",
    "    vérifiant les propriétés suivantes : <br/>\n",
    "    <ul style=\"font-size: 17px\">\n",
    "        <li><b>Symétrie : </b> $\\forall (x, y) \\in E^2, \\; d(x,y) = d(y,x) $</li> \n",
    "        <li><b>Séparation : </b> $\\forall (x, y) \\in E^2, \\; d(x,y) = 0 \\iff x = y $</li> \n",
    "        <li><b>Inégalité triangulaire : </b> $\\forall (x, y, z) \\in E^3, \\; d(x,z) < d(x,y) + d(y,z) $</li> \n",
    "    </ul>\n",
    " </p>\n",
    " <p style=\"font-size: 17px\">\n",
    "    Sur un espace vectoriel normé $(E,\\|\\cdot \\|)$, la distance d induite par la norme $\\|\\cdot \\|$ est définie par : <br/><br/>\n",
    "    <center> $\\forall (x, y) \\in E^2, \\; d(x,y) = \\|x-y\\|$ </center><br/>\n",
    "</p>\n",
    "\n",
    "<p style=\"font-size: 17px\">\n",
    " Dans $\\mathbb{R}^n$, on peut définir de plusieurs manières la distance entre deux points. Soient deux points de $E$, $x = (x_1, x_2, …,x_n)$ et $y = (y_1, y_2, …,y_n)$, la formule générale de la distance est la suivante : <br/><br/>\n",
    "\n",
    "<center>$\\forall (x, y) \\in E^2, \\; \\forall r \\in \\mathbb{N}^{*}, \\; d(x,y) = (\\sum_{k=1}^n |x_{k} - y_{k}|)^\\frac{1}{r}$</center><br/>\n",
    "\n",
    "<ul style=\"font-size: 17px\">\n",
    "    <li>Si r = 1, il s'agit de la distance de Manhattan (Norme $L_1$).</li>\n",
    "    <li>Si r = 2, on a la distance euclidienne (Norme $L_2$).</li>\n",
    "    <li>Si r = +$\\infty$, on l'appelle distance de Tchebychev (Norme $L_\\infty$).</li>\n",
    "</ul>\n",
    "<center>\n",
    "    $ d(x,y) = \\lim_{r \\to +\\infty} (\\sum_{k=1}^n |x_{k} - y_{k}|)^\\frac{1}{r}$\n",
    "</center>\n",
    "</p>\n",
    "<p style=\"font-size: 17px\">\n",
    "Dans la suite, nous considérons la distance euclidienne comme métrique de similarité car elle est la plus utilisée dans le domaine de Machine Learning.\n",
    "</p> "
   ]
  },
  {
   "cell_type": "markdown",
   "metadata": {},
   "source": [
    "### 2 - Algorithme de K-Means"
   ]
  },
  {
   "cell_type": "markdown",
   "metadata": {},
   "source": [
    "<p style=\"font-size: 17px\">\n",
    "On peut formuler le problème de clustering des données utilisant la méthode K-Means comme la recherche de K centroïdes ou barycentres, autour desquels peuvent être regroupées les autres données. D'où, le nom de l'algorithme algorithme (K-Moyennes ou K-Means en anglais). Ce dernier associe chaque donnée à son centroïde le plus proche, afin de créer des groupes(clusters). L'objectif principal de l'algorithme K-Means est donc de minimiser la somme des distances entre les points et leur centre de gravité de cluster respectif [2]. Ce problème d'optimisation peut être écrit sous la forme ci-dessous: <br/><br/>\n",
    "    <center>$min \\sum_{i=1}^k \\sum_{x \\in C_i}\\|x - \\frac{1}{|C_i|}\\sum_{x \\in C_j}x_j \\|^2  \\iff min \\sum_{i=1}^k \\frac{1}{|C_i|} \\sum_{x, y \\in C_i}\\|x-y\\|^2$<br/><br/>\n",
    "        <p style=\"font-size: 17px; text-align: center;\">Où $C_i$ est le cluster i et $x \\in C_i$ est l'ensemble des observations appartenant au cluster i.</p>\n",
    "    </center>\n",
    "</p>\n",
    "<p style=\"font-size: 17px\">\n",
    "À la fin de l'entraînement, l'algorithme divise données en K clusters clairement visibles. Cependant, il peut arriver que K-means finisse par converger avec des solutions différentes selon la manière dont les clusters ont été initialisés. Dans la suite, nous présentons ainsi cet algorithme. <br/><br/>\n",
    "    <h3>Algorithme de clustering: K-Means</h3><br/>\n",
    "    <p style=\"font-size: 17px\">\n",
    "    <b>ENTRÉE</b> : X (n observations, p variables), K (nombre de clusters à former)<br/><br/>\n",
    "    <b>DÉBUT</b><br/>\n",
    "    Choisir aléatoirement K centres de clusters (lignes de la matrice de données).<br/><br/>\n",
    "    </p>\n",
    "    <BLOCKQUOTE>\n",
    "        <b>RÉPÉTER</b><br/>\n",
    "        <BLOCKQUOTE>\n",
    "            <ul style=\"font-size: 17px\">\n",
    "                <li>\n",
    "                    Affecter chaque point ou individu (élément de la matrice de donnée) au cluster (groupe) dont il est le plus proche au son centre.\n",
    "                </li><br/><br/>\n",
    "                <li>\n",
    "                    Recalculer le centre de chaque cluster à partir des individus rattachés.\n",
    "                </li>\n",
    "            </ul>\n",
    "        </BLOCKQUOTE>\n",
    "        <b>JUSQU‘À</b> <span style=\"font-size: 17px\">CONVERGENCE</span><br/>\n",
    "        <p style=\"font-size: 17px\">Ici, CONVERGENCE fait référence à la fin d'itérations ou la stabilité des individus au sein des clusters c-à-d aucun changement de clusters en terme des individus et donc des centroïdes.</p>\n",
    "    </BLOCKQUOTE>\n",
    "    <p style=\"font-size: 17px\"><b>FIN ALGORITHME</b><br/><br/>\n",
    "    <b>SORTIE</b>: Une partition des données (individus) caractérisée par les K centres.</p>\n",
    "</p> "
   ]
  },
  {
   "cell_type": "markdown",
   "metadata": {},
   "source": [
    "### 3 - Choix du nombre de clusters"
   ]
  },
  {
   "cell_type": "markdown",
   "metadata": {},
   "source": [
    "<p style=\"font-size: 17px\">\n",
    "    Connaissons ainsi le fonctionnement de la méthode de K-Means, on peut se poser la question suivante : comment choisir le bon K c'est-à-dire le nombre de clusters optimal permettant de partitionner ou segmenter les données ? Surtout quand on a un grand ensemble de données et qu’on n’ait pas des hypothèses sur les données. Un nombre K grand peut conduire à un partitionnement trop fragmenté des données. Ce qui empêchera de découvrir des patterns ou relations intéressantes dans les données. Par contre, un K trop petit, conduira à avoir, potentiellement, des groupes trop généralistes contenant beaucoup de données. Ceci dit, il n’existe pas un unique clustering possible pour un jeu de données. Malheureusement, il n’existe pas d'algorithme statique voire automatisé pour trouver le bon K.<br/>\n",
    "Une méthode la plus usuelle pour choisir le nombre de clusters est d'exécuter K-Means avec différentes valeurs de K et de calculer la variance des différents clusters. Ici, la variance n'est autre que la somme des distances entre chaque centroïde d’un cluster et les différentes observations inclues dans le même cluster. Ainsi, on prendra un nombre de clusters K de telle sorte que les clusters minimisent la distance entre leurs centres et les observations. Cette méthode est aussi connue sous le nom Elbow ou coude en français.<br/>\n",
    "La variance du cluster se calcule comme suit [2]:<br/>\n",
    "    <center>$ V = \\sum_{i=1}^k \\sum_{x_j \\in C_i} d(c_i,x_j)^2$<br/><br/>\n",
    "        <p style=\"font-size: 17px; text-align: center;\">Où $C_i$ le cluster i, $c_i$ est le centroïde de $C_i$, $x_j \\in C_i$ représente l'observation j dans le cluster i.<p>\n",
    "    </center>\n",
    "</p> "
   ]
  },
  {
   "cell_type": "markdown",
   "metadata": {},
   "source": [
    "### 4 - Implémentation de l'algorithme"
   ]
  },
  {
   "cell_type": "markdown",
   "metadata": {},
   "source": [
    "<p style=\"font-size: 17px\">\n",
    "Nous avons maintenant tous les outils en mains pour implémenter l'algorithme de K-Means sur Python. Nous utiliserons, de ce fait, la notion de Programmation Orientée Objet (POO); c'est-à-dire nous ferons appel à une classe KMeans. Cette dernière aura une méthode d'initiation des paramètres $__init__$, des méthodes principales $fit$ et $predict$ et la méthode $distance$ qui calcule la distance euclidienne entre deux points. De prime abord, la méthode $__init__$ sauvegarde dans des variables de la classe KMeans le nombre de clusters que l'on souhaite générer et le nombre d'itérations permettant d'entraîner l'algorithme. En d'autres, le nombre d'itérations donne l'information sur le nombre de fois que l'on répétera ce dernier. Ensuite, la méthode $fit$, ayant comme argument l'ensemble de donné que l'on veut partitionner, a pour but d'entraîner le modèle. Dans cette méthode, on normalise(sur une échelle de 0-1) l'ensemble de données. Enfin, la méthode $predict$ prend en argument un ensemble de données et prédit la classe ou cluster auquel appartient chaque donnée de cet ensemble.\n",
    "</p>"
   ]
  },
  {
   "cell_type": "markdown",
   "metadata": {},
   "source": [
    "### Chargement de librairies utiles"
   ]
  },
  {
   "cell_type": "markdown",
   "metadata": {},
   "source": [
    "<p style=\"font-size: 17px\">\n",
    "Dans ce qui suit, nous aurons besoin de librairies <b>numpy, pyplot de matplotlib, pandas, sklearn, seaborn</b>.\n",
    "</p>"
   ]
  },
  {
   "cell_type": "code",
   "execution_count": 1,
   "metadata": {},
   "outputs": [],
   "source": [
    "import numpy as np\n",
    "import matplotlib.pyplot as plt\n",
    "import pandas as pd\n",
    "from sklearn.preprocessing import MinMaxScaler\n",
    "import seaborn as sns"
   ]
  },
  {
   "cell_type": "markdown",
   "metadata": {},
   "source": [
    "### Définition de la classe KMeans"
   ]
  },
  {
   "cell_type": "code",
   "execution_count": 2,
   "metadata": {},
   "outputs": [],
   "source": [
    "class KMeans():\n",
    "    \n",
    "    # Initialisation des paramètres\n",
    "    def __init__(self, k=2, n_iterations=100):\n",
    "        self.k = k\n",
    "        self.n_iterations = n_iterations\n",
    "    \n",
    "    # Définition de la distance euclidienne\n",
    "    def distance(self, A, B):\n",
    "        return np.linalg.norm(A-B,  axis=0)\n",
    "    \n",
    "    \n",
    "    # Méthode ou fonction d'entrainements (traing)\n",
    "    def fit(self, X):\n",
    "        \n",
    "        # Normalisation de données\n",
    "        scaler = MinMaxScaler()\n",
    "        X = scaler.fit_transform(X)\n",
    "        # Fin de normalisation\n",
    "        \n",
    "        \n",
    "        # Initialisation des centroïdes\n",
    "        self.centroids = {} # Dictionnaire des centroïdes\n",
    "        new_centroids = {}  # Centroides vérifiant la convergence\n",
    "        \n",
    "        random_index = np.random.permutation(X.shape[0]) # Choix aléatoire des indices\n",
    "        \n",
    "        for j in range(self.k):\n",
    "            self.centroids[j] = X[random_index[j]]\n",
    "            new_centroids[j] = X[random_index[j]]\n",
    "\n",
    "        # Fin d'initialisation\n",
    "        \n",
    "        # Debut d'entrainement\n",
    "        for i in range(self.n_iterations):\n",
    "            \n",
    "            # Initialisation de clusters\n",
    "            self.clusters = {}\n",
    "            for j in range(self.k):\n",
    "                self.clusters[j] = []\n",
    "\n",
    "            # Fin d'initialisation\n",
    "        \n",
    "            # Parcours de données\n",
    "            for x in X:\n",
    "                \n",
    "                calculated_distance = []\n",
    "                \n",
    "                # Calcul des distances entre les observations et leurs centroïdes\n",
    "                for centroid in self.centroids:\n",
    "                    dist = self.distance(x, self.centroids[centroid])\n",
    "                    calculated_distance.append(dist)\n",
    "                # Fin de calcul\n",
    "                \n",
    "                # Choix de la distance minimal et le cluster correspondant\n",
    "                label_of_x = np.argmin(calculated_distance)\n",
    "                self.clusters[label_of_x].append(x)\n",
    "                # Fin de choix\n",
    "            \n",
    "            # Fin de parcours de données\n",
    "            \n",
    "            # Calcul de nouveaux centroïdes (centres de gravité) de clusters\n",
    "            for j in range(self.k):\n",
    "                new_centroids[j] = np.average(self.clusters[j], axis=0)\n",
    "            # Fin de calcul\n",
    "            \n",
    "            # Vérification si des ré-assignenments ont eu lieu\n",
    "            isSameCentroid = 0\n",
    "            for j in range(self.k):\n",
    "                comparison = np.array(new_centroids[j]) == np.array(self.centroids[j])\n",
    "                \n",
    "                if comparison.all():\n",
    "                    isSameCentroid += 1\n",
    "            \n",
    "            if isSameCentroid == self.k: # Si les centroïdes n'ont pas changé alors il y a convergence\n",
    "                return\n",
    "            else: # Sinon, on change les centroïdes prennent les valeurs de new_centroids\n",
    "                for j in range(self.k):\n",
    "                    self.centroids[j] = new_centroids[j]\n",
    "            # Fin de vérification\n",
    "            \n",
    "        # Fin d'entrainement\n",
    "    \n",
    "    \n",
    "    # Méthode de prédiction. \n",
    "        # Cette méthode ressemble beaucoup à la méthode fit \n",
    "        # mais ici, on n'a besoin que des centroides calculés dans fit. \n",
    "    \n",
    "    def predict(self, X):\n",
    "        \n",
    "        predict = []\n",
    "        for x in X:\n",
    "            calculated_distance = []\n",
    "\n",
    "            for centroid in self.centroids:\n",
    "                \n",
    "                dist = self.distance(x, self.centroids[centroid])\n",
    "                calculated_distance.append(dist)\n",
    "\n",
    "            label_of_x = np.argmin(calculated_distance)\n",
    "            predict.append(label_of_x)\n",
    "        \n",
    "        return np.array(predict)"
   ]
  },
  {
   "cell_type": "markdown",
   "metadata": {},
   "source": [
    "## II - Évalution de l'algorithme"
   ]
  },
  {
   "cell_type": "markdown",
   "metadata": {},
   "source": [
    "<p style=\"font-size: 17px\">\n",
    "Dans le but d'évaluer notre algorithme, nous utiliserons la base de données CIQUAL 2020 disponible sur le site de l' 'agence  nationale  de  sécurité  sanitaire  de  l’alimentation,  de \n",
    "l’environnement  et  du  travail (ANSES).\n",
    "</p>"
   ]
  },
  {
   "cell_type": "markdown",
   "metadata": {},
   "source": [
    "### 1 - Présentation de données"
   ]
  },
  {
   "cell_type": "markdown",
   "metadata": {},
   "source": [
    "<p style=\"font-size: 17px\">\n",
    "Le jeu de données CIQUAL 2020 a été initialement publié par l'ANSES [3]. Ce jeu de données décrit  la  composition  nutritionnelle  de  3185  aliments  consommés  en  France  pour 67 constituants  (glucides,  amidon  et  sucres  individuels,  protéines,  lipides  et  acides  gras, \n",
    "vitamines, minéraux, valeurs énergétiques...) [4]. Afin d'évaluer le modèle implémenté, nous ne considérons que les constituants suivant : énergie, eau, proteïnes, glucides, lipides. De plus, nous ne prenons pas en compte les aliments où il manque un de ces des constituants.\n",
    "</p>"
   ]
  },
  {
   "cell_type": "markdown",
   "metadata": {},
   "source": [
    "### 2 - Chargement et pré-traitement de données"
   ]
  },
  {
   "cell_type": "markdown",
   "metadata": {},
   "source": [
    "### Chargement de données"
   ]
  },
  {
   "cell_type": "code",
   "execution_count": 3,
   "metadata": {},
   "outputs": [],
   "source": [
    "data = pd.read_excel(\"Table Ciqual 2020_FR_2020 07 07.xls\") # Lecture de données"
   ]
  },
  {
   "cell_type": "code",
   "execution_count": 4,
   "metadata": {},
   "outputs": [
    {
     "data": {
      "text/html": [
       "<div>\n",
       "<style scoped>\n",
       "    .dataframe tbody tr th:only-of-type {\n",
       "        vertical-align: middle;\n",
       "    }\n",
       "\n",
       "    .dataframe tbody tr th {\n",
       "        vertical-align: top;\n",
       "    }\n",
       "\n",
       "    .dataframe thead th {\n",
       "        text-align: right;\n",
       "    }\n",
       "</style>\n",
       "<table border=\"1\" class=\"dataframe\">\n",
       "  <thead>\n",
       "    <tr style=\"text-align: right;\">\n",
       "      <th></th>\n",
       "      <th>alim_grp_code</th>\n",
       "      <th>alim_ssgrp_code</th>\n",
       "      <th>alim_ssssgrp_code</th>\n",
       "      <th>alim_grp_nom_fr</th>\n",
       "      <th>alim_ssgrp_nom_fr</th>\n",
       "      <th>alim_ssssgrp_nom_fr</th>\n",
       "      <th>alim_code</th>\n",
       "      <th>alim_nom_fr</th>\n",
       "      <th>alim_nom_sci</th>\n",
       "      <th>Energie, Règlement UE N° 1169/2011 (kJ/100 g)</th>\n",
       "      <th>...</th>\n",
       "      <th>Vitamine K1 (µg/100 g)</th>\n",
       "      <th>Vitamine K2 (µg/100 g)</th>\n",
       "      <th>Vitamine C (mg/100 g)</th>\n",
       "      <th>Vitamine B1 ou Thiamine (mg/100 g)</th>\n",
       "      <th>Vitamine B2 ou Riboflavine (mg/100 g)</th>\n",
       "      <th>Vitamine B3 ou PP ou Niacine (mg/100 g)</th>\n",
       "      <th>Vitamine B5 ou Acide pantothénique (mg/100 g)</th>\n",
       "      <th>Vitamine B6 (mg/100 g)</th>\n",
       "      <th>Vitamine B9 ou Folates totaux (µg/100 g)</th>\n",
       "      <th>Vitamine B12 (µg/100 g)</th>\n",
       "    </tr>\n",
       "  </thead>\n",
       "  <tbody>\n",
       "    <tr>\n",
       "      <th>0</th>\n",
       "      <td>0</td>\n",
       "      <td>0</td>\n",
       "      <td>0</td>\n",
       "      <td>NaN</td>\n",
       "      <td>NaN</td>\n",
       "      <td>NaN</td>\n",
       "      <td>24999</td>\n",
       "      <td>Dessert (aliment moyen)</td>\n",
       "      <td>NaN</td>\n",
       "      <td>NaN</td>\n",
       "      <td>...</td>\n",
       "      <td>NaN</td>\n",
       "      <td>NaN</td>\n",
       "      <td>1,37</td>\n",
       "      <td>0,084</td>\n",
       "      <td>0,15</td>\n",
       "      <td>0,61</td>\n",
       "      <td>0,4</td>\n",
       "      <td>0,056</td>\n",
       "      <td>30,8</td>\n",
       "      <td>0,21</td>\n",
       "    </tr>\n",
       "    <tr>\n",
       "      <th>1</th>\n",
       "      <td>1</td>\n",
       "      <td>101</td>\n",
       "      <td>0</td>\n",
       "      <td>entrées et plats composés</td>\n",
       "      <td>salades composées et crudités</td>\n",
       "      <td>-</td>\n",
       "      <td>25601</td>\n",
       "      <td>Salade de thon et légumes, appertisée</td>\n",
       "      <td>NaN</td>\n",
       "      <td>-</td>\n",
       "      <td>...</td>\n",
       "      <td>-</td>\n",
       "      <td>-</td>\n",
       "      <td>2,75</td>\n",
       "      <td>&lt; 0,04</td>\n",
       "      <td>0,053</td>\n",
       "      <td>4,45</td>\n",
       "      <td>&lt; 0,16</td>\n",
       "      <td>0,29</td>\n",
       "      <td>31</td>\n",
       "      <td>1,45</td>\n",
       "    </tr>\n",
       "    <tr>\n",
       "      <th>2</th>\n",
       "      <td>1</td>\n",
       "      <td>101</td>\n",
       "      <td>0</td>\n",
       "      <td>entrées et plats composés</td>\n",
       "      <td>salades composées et crudités</td>\n",
       "      <td>-</td>\n",
       "      <td>25602</td>\n",
       "      <td>Salade composée avec viande ou poisson, appert...</td>\n",
       "      <td>NaN</td>\n",
       "      <td>-</td>\n",
       "      <td>...</td>\n",
       "      <td>9,75</td>\n",
       "      <td>-</td>\n",
       "      <td>-</td>\n",
       "      <td>0,032</td>\n",
       "      <td>0,022</td>\n",
       "      <td>4,13</td>\n",
       "      <td>0,2</td>\n",
       "      <td>0,12</td>\n",
       "      <td>11,1</td>\n",
       "      <td>1,23</td>\n",
       "    </tr>\n",
       "    <tr>\n",
       "      <th>3</th>\n",
       "      <td>1</td>\n",
       "      <td>101</td>\n",
       "      <td>0</td>\n",
       "      <td>entrées et plats composés</td>\n",
       "      <td>salades composées et crudités</td>\n",
       "      <td>-</td>\n",
       "      <td>25605</td>\n",
       "      <td>Champignons à la grecque, appertisés</td>\n",
       "      <td>NaN</td>\n",
       "      <td>-</td>\n",
       "      <td>...</td>\n",
       "      <td>-</td>\n",
       "      <td>-</td>\n",
       "      <td>6,67</td>\n",
       "      <td>0,056</td>\n",
       "      <td>0,21</td>\n",
       "      <td>1,84</td>\n",
       "      <td>0,88</td>\n",
       "      <td>0,088</td>\n",
       "      <td>19,6</td>\n",
       "      <td>0,018</td>\n",
       "    </tr>\n",
       "    <tr>\n",
       "      <th>4</th>\n",
       "      <td>1</td>\n",
       "      <td>101</td>\n",
       "      <td>0</td>\n",
       "      <td>entrées et plats composés</td>\n",
       "      <td>salades composées et crudités</td>\n",
       "      <td>-</td>\n",
       "      <td>25606</td>\n",
       "      <td>Salade de pommes de terre, fait maison</td>\n",
       "      <td>NaN</td>\n",
       "      <td>-</td>\n",
       "      <td>...</td>\n",
       "      <td>-</td>\n",
       "      <td>-</td>\n",
       "      <td>10</td>\n",
       "      <td>0,077</td>\n",
       "      <td>0,06</td>\n",
       "      <td>0,89</td>\n",
       "      <td>0,53</td>\n",
       "      <td>0,14</td>\n",
       "      <td>7</td>\n",
       "      <td>0</td>\n",
       "    </tr>\n",
       "  </tbody>\n",
       "</table>\n",
       "<p>5 rows × 76 columns</p>\n",
       "</div>"
      ],
      "text/plain": [
       "   alim_grp_code  alim_ssgrp_code  alim_ssssgrp_code  \\\n",
       "0              0                0                  0   \n",
       "1              1              101                  0   \n",
       "2              1              101                  0   \n",
       "3              1              101                  0   \n",
       "4              1              101                  0   \n",
       "\n",
       "             alim_grp_nom_fr              alim_ssgrp_nom_fr  \\\n",
       "0                        NaN                            NaN   \n",
       "1  entrées et plats composés  salades composées et crudités   \n",
       "2  entrées et plats composés  salades composées et crudités   \n",
       "3  entrées et plats composés  salades composées et crudités   \n",
       "4  entrées et plats composés  salades composées et crudités   \n",
       "\n",
       "  alim_ssssgrp_nom_fr  alim_code  \\\n",
       "0                 NaN      24999   \n",
       "1                   -      25601   \n",
       "2                   -      25602   \n",
       "3                   -      25605   \n",
       "4                   -      25606   \n",
       "\n",
       "                                         alim_nom_fr alim_nom_sci  \\\n",
       "0                            Dessert (aliment moyen)          NaN   \n",
       "1              Salade de thon et légumes, appertisée          NaN   \n",
       "2  Salade composée avec viande ou poisson, appert...          NaN   \n",
       "3               Champignons à la grecque, appertisés          NaN   \n",
       "4             Salade de pommes de terre, fait maison          NaN   \n",
       "\n",
       "  Energie, Règlement UE N° 1169/2011 (kJ/100 g)  ... Vitamine K1 (µg/100 g)  \\\n",
       "0                                           NaN  ...                    NaN   \n",
       "1                                             -  ...                      -   \n",
       "2                                             -  ...                   9,75   \n",
       "3                                             -  ...                      -   \n",
       "4                                             -  ...                      -   \n",
       "\n",
       "  Vitamine K2 (µg/100 g) Vitamine C (mg/100 g)  \\\n",
       "0                    NaN                  1,37   \n",
       "1                      -                  2,75   \n",
       "2                      -                     -   \n",
       "3                      -                  6,67   \n",
       "4                      -                    10   \n",
       "\n",
       "  Vitamine B1 ou Thiamine (mg/100 g) Vitamine B2 ou Riboflavine (mg/100 g)  \\\n",
       "0                              0,084                                  0,15   \n",
       "1                             < 0,04                                 0,053   \n",
       "2                              0,032                                 0,022   \n",
       "3                              0,056                                  0,21   \n",
       "4                              0,077                                  0,06   \n",
       "\n",
       "  Vitamine B3 ou PP ou Niacine (mg/100 g)  \\\n",
       "0                                    0,61   \n",
       "1                                    4,45   \n",
       "2                                    4,13   \n",
       "3                                    1,84   \n",
       "4                                    0,89   \n",
       "\n",
       "  Vitamine B5 ou Acide pantothénique (mg/100 g) Vitamine B6 (mg/100 g)  \\\n",
       "0                                           0,4                  0,056   \n",
       "1                                        < 0,16                   0,29   \n",
       "2                                           0,2                   0,12   \n",
       "3                                          0,88                  0,088   \n",
       "4                                          0,53                   0,14   \n",
       "\n",
       "  Vitamine B9 ou Folates totaux (µg/100 g) Vitamine B12 (µg/100 g)  \n",
       "0                                     30,8                    0,21  \n",
       "1                                       31                    1,45  \n",
       "2                                     11,1                    1,23  \n",
       "3                                     19,6                   0,018  \n",
       "4                                        7                       0  \n",
       "\n",
       "[5 rows x 76 columns]"
      ]
     },
     "execution_count": 4,
     "metadata": {},
     "output_type": "execute_result"
    }
   ],
   "source": [
    "data.head() # Affichage des 5 premiers aliments"
   ]
  },
  {
   "cell_type": "markdown",
   "metadata": {},
   "source": [
    "### Sélection des constituants indispensables pour l'évalution"
   ]
  },
  {
   "cell_type": "markdown",
   "metadata": {},
   "source": [
    "<p style=\"font-size: 17px\">\n",
    "Énergie, eau, proteïnes, glucides, lipides sont les constituants que nous utiliserons pour évaluer l'algorithme. Cependant, nous nous sommes dits qu'il serait important de garder aussi le groupe et le nom des aliments. Ces derniers pourraient nous donner plus d'informations sur les clusters que nous formerons dans la suite.\n",
    "</p>"
   ]
  },
  {
   "cell_type": "code",
   "execution_count": 5,
   "metadata": {},
   "outputs": [],
   "source": [
    "new_data = data[[\"alim_grp_nom_fr\", \"alim_nom_fr\", \"Energie, Règlement UE N° 1169/2011 (kcal/100 g)\", \"Eau (g/100 g)\", \"Protéines, N x 6.25 (g/100 g)\", \"Glucides (g/100 g)\", \"Lipides (g/100 g)\"]]"
   ]
  },
  {
   "cell_type": "markdown",
   "metadata": {},
   "source": [
    "<p style=\"font-size: 17px\">\n",
    "Comme vous le constatez, les noms de colonnes ne sont pas explicites alors nous les renommerons par: Groupe, Nom, Energie, Eau, Protéines, Glucides, Lipides.\n",
    "</p>"
   ]
  },
  {
   "cell_type": "code",
   "execution_count": 6,
   "metadata": {},
   "outputs": [],
   "source": [
    "new_data.columns = [\"Groupe\", \"Nom\", \"Energie\", \"Eau\", \"Protéines\", \"Glucides\", \"Lipides\"]"
   ]
  },
  {
   "cell_type": "code",
   "execution_count": 7,
   "metadata": {},
   "outputs": [
    {
     "data": {
      "text/html": [
       "<div>\n",
       "<style scoped>\n",
       "    .dataframe tbody tr th:only-of-type {\n",
       "        vertical-align: middle;\n",
       "    }\n",
       "\n",
       "    .dataframe tbody tr th {\n",
       "        vertical-align: top;\n",
       "    }\n",
       "\n",
       "    .dataframe thead th {\n",
       "        text-align: right;\n",
       "    }\n",
       "</style>\n",
       "<table border=\"1\" class=\"dataframe\">\n",
       "  <thead>\n",
       "    <tr style=\"text-align: right;\">\n",
       "      <th></th>\n",
       "      <th>Groupe</th>\n",
       "      <th>Nom</th>\n",
       "      <th>Energie</th>\n",
       "      <th>Eau</th>\n",
       "      <th>Protéines</th>\n",
       "      <th>Glucides</th>\n",
       "      <th>Lipides</th>\n",
       "    </tr>\n",
       "  </thead>\n",
       "  <tbody>\n",
       "    <tr>\n",
       "      <th>0</th>\n",
       "      <td>NaN</td>\n",
       "      <td>Dessert (aliment moyen)</td>\n",
       "      <td>NaN</td>\n",
       "      <td>45,4</td>\n",
       "      <td>4,61</td>\n",
       "      <td>36,6</td>\n",
       "      <td>12,9</td>\n",
       "    </tr>\n",
       "    <tr>\n",
       "      <th>1</th>\n",
       "      <td>entrées et plats composés</td>\n",
       "      <td>Salade de thon et légumes, appertisée</td>\n",
       "      <td>-</td>\n",
       "      <td>76,5</td>\n",
       "      <td>9,15</td>\n",
       "      <td>7,74</td>\n",
       "      <td>4,7</td>\n",
       "    </tr>\n",
       "    <tr>\n",
       "      <th>2</th>\n",
       "      <td>entrées et plats composés</td>\n",
       "      <td>Salade composée avec viande ou poisson, appert...</td>\n",
       "      <td>-</td>\n",
       "      <td>76,7</td>\n",
       "      <td>8,06</td>\n",
       "      <td>6,4</td>\n",
       "      <td>5,3</td>\n",
       "    </tr>\n",
       "    <tr>\n",
       "      <th>3</th>\n",
       "      <td>entrées et plats composés</td>\n",
       "      <td>Champignons à la grecque, appertisés</td>\n",
       "      <td>-</td>\n",
       "      <td>85,2</td>\n",
       "      <td>2,08</td>\n",
       "      <td>3,95</td>\n",
       "      <td>3,55</td>\n",
       "    </tr>\n",
       "    <tr>\n",
       "      <th>4</th>\n",
       "      <td>entrées et plats composés</td>\n",
       "      <td>Salade de pommes de terre, fait maison</td>\n",
       "      <td>-</td>\n",
       "      <td>76</td>\n",
       "      <td>2,68</td>\n",
       "      <td>9,9</td>\n",
       "      <td>8,2</td>\n",
       "    </tr>\n",
       "  </tbody>\n",
       "</table>\n",
       "</div>"
      ],
      "text/plain": [
       "                      Groupe  \\\n",
       "0                        NaN   \n",
       "1  entrées et plats composés   \n",
       "2  entrées et plats composés   \n",
       "3  entrées et plats composés   \n",
       "4  entrées et plats composés   \n",
       "\n",
       "                                                 Nom Energie   Eau Protéines  \\\n",
       "0                            Dessert (aliment moyen)     NaN  45,4      4,61   \n",
       "1              Salade de thon et légumes, appertisée       -  76,5      9,15   \n",
       "2  Salade composée avec viande ou poisson, appert...       -  76,7      8,06   \n",
       "3               Champignons à la grecque, appertisés       -  85,2      2,08   \n",
       "4             Salade de pommes de terre, fait maison       -    76      2,68   \n",
       "\n",
       "  Glucides Lipides  \n",
       "0     36,6    12,9  \n",
       "1     7,74     4,7  \n",
       "2      6,4     5,3  \n",
       "3     3,95    3,55  \n",
       "4      9,9     8,2  "
      ]
     },
     "execution_count": 7,
     "metadata": {},
     "output_type": "execute_result"
    }
   ],
   "source": [
    "new_data.head() # Affichage des 5 premiers aliments de la nouvelle base de données."
   ]
  },
  {
   "cell_type": "markdown",
   "metadata": {},
   "source": [
    "### Pré-traitement de données"
   ]
  },
  {
   "cell_type": "markdown",
   "metadata": {},
   "source": [
    "#### Information sur les données manquantes"
   ]
  },
  {
   "cell_type": "code",
   "execution_count": 8,
   "metadata": {},
   "outputs": [
    {
     "data": {
      "text/plain": [
       "Groupe       45\n",
       "Nom           0\n",
       "Energie      17\n",
       "Eau           3\n",
       "Protéines     1\n",
       "Glucides      1\n",
       "Lipides       1\n",
       "dtype: int64"
      ]
     },
     "execution_count": 8,
     "metadata": {},
     "output_type": "execute_result"
    }
   ],
   "source": [
    "new_data.isna().sum()"
   ]
  },
  {
   "cell_type": "markdown",
   "metadata": {},
   "source": [
    "<p style=\"font-size: 17px\">\n",
    "On remarque, excepté le nom, qu'il y a absence des données dans le jeu de données. D'une part, cette absence est symbolisée par $\"-\"$ ou \"$NaN$\". D'autre part, selon la documentation de composition nutritionnelle des aliments \n",
    "Ciqual 2020 [5], le terme « <b>traces</b> » est aussi utilisé en l’absence d’analyse quand un compilateur de données estime que la teneur d’un aliment en un constituant est très faible. De ce fait, nous le considérons comme « <b>donnée manquante</b> ». Nous devons alors ignorer ces aliments n'ayant pas au moins une de ces caractéristiques (constituants). Ainsi, nous allons remplacer $\"-\"$ et \"$traces$\" par \"$NaN$\" puis utiliser la méthode $dropna$ de pandas pour les supprimer.\n",
    "</p>"
   ]
  },
  {
   "cell_type": "code",
   "execution_count": 105,
   "metadata": {},
   "outputs": [],
   "source": [
    "new_data = new_data.replace('-', np.nan)"
   ]
  },
  {
   "cell_type": "code",
   "execution_count": 10,
   "metadata": {},
   "outputs": [],
   "source": [
    "new_data = new_data.replace('traces', np.nan)"
   ]
  },
  {
   "cell_type": "code",
   "execution_count": 11,
   "metadata": {},
   "outputs": [],
   "source": [
    "new_data.dropna(inplace=True)"
   ]
  },
  {
   "cell_type": "markdown",
   "metadata": {},
   "source": [
    "#### Vérification des données manquantes"
   ]
  },
  {
   "cell_type": "code",
   "execution_count": 12,
   "metadata": {},
   "outputs": [
    {
     "data": {
      "text/plain": [
       "Groupe       0\n",
       "Nom          0\n",
       "Energie      0\n",
       "Eau          0\n",
       "Protéines    0\n",
       "Glucides     0\n",
       "Lipides      0\n",
       "dtype: int64"
      ]
     },
     "execution_count": 12,
     "metadata": {},
     "output_type": "execute_result"
    }
   ],
   "source": [
    "new_data.isna().sum()"
   ]
  },
  {
   "cell_type": "markdown",
   "metadata": {},
   "source": [
    "<p style=\"font-size: 17px\">\n",
    "Finalement, il n'y a plus absence de données.\n",
    "</p>"
   ]
  },
  {
   "cell_type": "code",
   "execution_count": 13,
   "metadata": {},
   "outputs": [
    {
     "data": {
      "text/html": [
       "<div>\n",
       "<style scoped>\n",
       "    .dataframe tbody tr th:only-of-type {\n",
       "        vertical-align: middle;\n",
       "    }\n",
       "\n",
       "    .dataframe tbody tr th {\n",
       "        vertical-align: top;\n",
       "    }\n",
       "\n",
       "    .dataframe thead th {\n",
       "        text-align: right;\n",
       "    }\n",
       "</style>\n",
       "<table border=\"1\" class=\"dataframe\">\n",
       "  <thead>\n",
       "    <tr style=\"text-align: right;\">\n",
       "      <th></th>\n",
       "      <th>Groupe</th>\n",
       "      <th>Nom</th>\n",
       "      <th>Energie</th>\n",
       "      <th>Eau</th>\n",
       "      <th>Protéines</th>\n",
       "      <th>Glucides</th>\n",
       "      <th>Lipides</th>\n",
       "    </tr>\n",
       "  </thead>\n",
       "  <tbody>\n",
       "    <tr>\n",
       "      <th>5</th>\n",
       "      <td>entrées et plats composés</td>\n",
       "      <td>Taboulé ou Salade de couscous, préemballé</td>\n",
       "      <td>179</td>\n",
       "      <td>60,3</td>\n",
       "      <td>4,88</td>\n",
       "      <td>23,7</td>\n",
       "      <td>6,7</td>\n",
       "    </tr>\n",
       "    <tr>\n",
       "      <th>6</th>\n",
       "      <td>entrées et plats composés</td>\n",
       "      <td>Salade de pomme de terre à la piémontaise, pré...</td>\n",
       "      <td>130</td>\n",
       "      <td>75,8</td>\n",
       "      <td>4,5</td>\n",
       "      <td>8,87</td>\n",
       "      <td>8,3</td>\n",
       "    </tr>\n",
       "    <tr>\n",
       "      <th>9</th>\n",
       "      <td>entrées et plats composés</td>\n",
       "      <td>Crudité, sans assaisonnement (aliment moyen)</td>\n",
       "      <td>29,9</td>\n",
       "      <td>93,2</td>\n",
       "      <td>0,94</td>\n",
       "      <td>3,07</td>\n",
       "      <td>0,7</td>\n",
       "    </tr>\n",
       "    <tr>\n",
       "      <th>13</th>\n",
       "      <td>entrées et plats composés</td>\n",
       "      <td>Salade végétale à base de boulgour et/ou quino...</td>\n",
       "      <td>168</td>\n",
       "      <td>65,5</td>\n",
       "      <td>4,06</td>\n",
       "      <td>17,4</td>\n",
       "      <td>8,3</td>\n",
       "    </tr>\n",
       "    <tr>\n",
       "      <th>16</th>\n",
       "      <td>entrées et plats composés</td>\n",
       "      <td>Salade de chou ou Coleslaw, avec sauce, préemb...</td>\n",
       "      <td>105</td>\n",
       "      <td>80,4</td>\n",
       "      <td>0,94</td>\n",
       "      <td>5,78</td>\n",
       "      <td>8,1</td>\n",
       "    </tr>\n",
       "  </tbody>\n",
       "</table>\n",
       "</div>"
      ],
      "text/plain": [
       "                       Groupe  \\\n",
       "5   entrées et plats composés   \n",
       "6   entrées et plats composés   \n",
       "9   entrées et plats composés   \n",
       "13  entrées et plats composés   \n",
       "16  entrées et plats composés   \n",
       "\n",
       "                                                  Nom Energie   Eau Protéines  \\\n",
       "5           Taboulé ou Salade de couscous, préemballé     179  60,3      4,88   \n",
       "6   Salade de pomme de terre à la piémontaise, pré...     130  75,8       4,5   \n",
       "9        Crudité, sans assaisonnement (aliment moyen)    29,9  93,2      0,94   \n",
       "13  Salade végétale à base de boulgour et/ou quino...     168  65,5      4,06   \n",
       "16  Salade de chou ou Coleslaw, avec sauce, préemb...     105  80,4      0,94   \n",
       "\n",
       "   Glucides Lipides  \n",
       "5      23,7     6,7  \n",
       "6      8,87     8,3  \n",
       "9      3,07     0,7  \n",
       "13     17,4     8,3  \n",
       "16     5,78     8,1  "
      ]
     },
     "execution_count": 13,
     "metadata": {},
     "output_type": "execute_result"
    }
   ],
   "source": [
    "new_data.head() # Affichage des 5 premieres données"
   ]
  },
  {
   "cell_type": "markdown",
   "metadata": {},
   "source": [
    "#### Types de données"
   ]
  },
  {
   "cell_type": "code",
   "execution_count": 14,
   "metadata": {},
   "outputs": [
    {
     "data": {
      "text/plain": [
       "Groupe       object\n",
       "Nom          object\n",
       "Energie      object\n",
       "Eau          object\n",
       "Protéines    object\n",
       "Glucides     object\n",
       "Lipides      object\n",
       "dtype: object"
      ]
     },
     "execution_count": 14,
     "metadata": {},
     "output_type": "execute_result"
    }
   ],
   "source": [
    "new_data.dtypes"
   ]
  },
  {
   "cell_type": "markdown",
   "metadata": {},
   "source": [
    "<p style=\"font-size: 17px\">\n",
    "Premièrement, on peut remarquer les constituants énergie, eau, protéines, glucides et lipides ne sont pas de données réelles car il s'agit de \"$object$\". Normalement, on devrait avoir le type \"$float64$\". Deuxièmement, les données sont écrites en français. Ceci dit, la virgule \"$,$\" dans les nombres réels doit être remplacée par un point \"$.$\". Enfin, certains aliments ont des valeurs des constituants inférieures à un certain nombre c'est-à-dire qu'il y a la présence du symbole \"$<$\". Dans ce cas, nous le considérons comme \"$=$\" et non \"$<$\". Ce qui revient justement à supprimer ce symbole d'infériorité.\n",
    "</p>"
   ]
  },
  {
   "cell_type": "code",
   "execution_count": 15,
   "metadata": {},
   "outputs": [],
   "source": [
    "for col in new_data.columns[2:]:\n",
    "    \n",
    "    new_data[col] = new_data[col].astype(str).str.replace(',','.') # Remplacement de \",\" par \".\"\n",
    "    new_data[col] = new_data[col].astype(str).str.replace('< ','') # Suppression de \"<\"\n",
    "    new_data[col] = new_data[col].astype(float, errors = 'raise')  # Chagement de type : object => float"
   ]
  },
  {
   "cell_type": "markdown",
   "metadata": {},
   "source": [
    "#### Vérification des types de données"
   ]
  },
  {
   "cell_type": "code",
   "execution_count": 16,
   "metadata": {},
   "outputs": [
    {
     "data": {
      "text/plain": [
       "Groupe        object\n",
       "Nom           object\n",
       "Energie      float64\n",
       "Eau          float64\n",
       "Protéines    float64\n",
       "Glucides     float64\n",
       "Lipides      float64\n",
       "dtype: object"
      ]
     },
     "execution_count": 16,
     "metadata": {},
     "output_type": "execute_result"
    }
   ],
   "source": [
    "new_data.dtypes"
   ]
  },
  {
   "cell_type": "markdown",
   "metadata": {},
   "source": [
    "<p style=\"font-size: 17px\">\n",
    "Les quatre dernières colonnes sont maintemant de type \"$float$\" comme volu.\n",
    "</p>"
   ]
  },
  {
   "cell_type": "markdown",
   "metadata": {},
   "source": [
    "### 3 - Mini analyse exploratoire"
   ]
  },
  {
   "cell_type": "markdown",
   "metadata": {},
   "source": [
    "#### Information sur le nombre des aliments"
   ]
  },
  {
   "cell_type": "code",
   "execution_count": 17,
   "metadata": {},
   "outputs": [
    {
     "data": {
      "text/plain": [
       "1757"
      ]
     },
     "execution_count": 17,
     "metadata": {},
     "output_type": "execute_result"
    }
   ],
   "source": [
    "len(new_data)"
   ]
  },
  {
   "cell_type": "markdown",
   "metadata": {},
   "source": [
    "<p style=\"font-size: 17px\">\n",
    "Sur les 3185 aliments que contenait le jeu de données, il n'en reste plus que 1757 après traitement ou nettoyage de données. D'où une perte de 1428 aliments.\n",
    "</p>"
   ]
  },
  {
   "cell_type": "markdown",
   "metadata": {},
   "source": [
    "#### Groupes distincts d'aliments"
   ]
  },
  {
   "cell_type": "code",
   "execution_count": 18,
   "metadata": {},
   "outputs": [
    {
     "name": "stdout",
     "output_type": "stream",
     "text": [
      "['entrées et plats composés' 'fruits, légumes, légumineuses et oléagineux'\n",
      " 'produits céréaliers' 'viandes, œufs, poissons et assimilés'\n",
      " 'produits laitiers et assimilés' 'eaux et autres boissons'\n",
      " 'produits sucrés' 'glaces et sorbets' 'matières grasses'\n",
      " 'aides culinaires et ingrédients divers' 'aliments infantiles']\n"
     ]
    }
   ],
   "source": [
    "groupes = new_data[\"Groupe\"].unique()\n",
    "print(groupes)"
   ]
  },
  {
   "cell_type": "code",
   "execution_count": 19,
   "metadata": {},
   "outputs": [
    {
     "data": {
      "text/plain": [
       "viandes, œufs, poissons et assimilés           504\n",
       "fruits, légumes, légumineuses et oléagineux    251\n",
       "entrées et plats composés                      244\n",
       "eaux et autres boissons                        172\n",
       "produits laitiers et assimilés                 128\n",
       "produits céréaliers                            125\n",
       "aides culinaires et ingrédients divers         113\n",
       "produits sucrés                                110\n",
       "matières grasses                                69\n",
       "aliments infantiles                             31\n",
       "glaces et sorbets                               10\n",
       "Name: Groupe, dtype: int64"
      ]
     },
     "execution_count": 19,
     "metadata": {},
     "output_type": "execute_result"
    }
   ],
   "source": [
    "new_data[\"Groupe\"].value_counts()"
   ]
  },
  {
   "cell_type": "markdown",
   "metadata": {},
   "source": [
    "<p style=\"font-size: 17px\">\n",
    "Le nouveau jeu de données contient les aliments appartenant à 11 groupes distincts ci-dessus. Il y a plus d'aliments de type viandes, œufs, poissons et assimilés dans l'ensemble de donnée. C'est 2 fois plus que le deuxième et troisième groupe. Seulement 10 aliments appartiennent au groupe les glaces et sorbets.<br/>\n",
    "Ces résultats sont résumés dans la figure ci-dessous.\n",
    "</p>"
   ]
  },
  {
   "cell_type": "code",
   "execution_count": 20,
   "metadata": {},
   "outputs": [
    {
     "data": {
      "text/plain": [
       "<matplotlib.axes._subplots.AxesSubplot at 0x7ff7406ad190>"
      ]
     },
     "execution_count": 20,
     "metadata": {},
     "output_type": "execute_result"
    },
    {
     "data": {
      "image/png": "[encoded data removed]",
      "text/plain": [
       "<Figure size 864x504 with 1 Axes>"
      ]
     },
     "metadata": {},
     "output_type": "display_data"
    }
   ],
   "source": [
    "plt.subplots(figsize=(12, 7))\n",
    "new_data[\"Groupe\"].value_counts().plot.pie()"
   ]
  },
  {
   "cell_type": "markdown",
   "metadata": {},
   "source": [
    "#### Analyse de distribution de  variables continues (Energie, Eau, Protéines, Glucides, Lipides)"
   ]
  },
  {
   "cell_type": "code",
   "execution_count": 22,
   "metadata": {},
   "outputs": [
    {
     "data": {
      "image/png": "[encoded data removed]",
      "text/plain": [
       "<Figure size 576x360 with 1 Axes>"
      ]
     },
     "metadata": {
      "needs_background": "light"
     },
     "output_type": "display_data"
    },
    {
     "data": {
      "image/png": "[encoded data removed]",
      "text/plain": [
       "<Figure size 576x360 with 1 Axes>"
      ]
     },
     "metadata": {
      "needs_background": "light"
     },
     "output_type": "display_data"
    },
    {
     "data": {
      "image/png": "[encoded data removed]",
      "text/plain": [
       "<Figure size 576x360 with 1 Axes>"
      ]
     },
     "metadata": {
      "needs_background": "light"
     },
     "output_type": "display_data"
    },
    {
     "data": {
      "image/png": "[encoded data removed]",
      "text/plain": [
       "<Figure size 576x360 with 1 Axes>"
      ]
     },
     "metadata": {
      "needs_background": "light"
     },
     "output_type": "display_data"
    },
    {
     "data": {
      "image/png": "[encoded data removed]",
      "text/plain": [
       "<Figure size 576x360 with 1 Axes>"
      ]
     },
     "metadata": {
      "needs_background": "light"
     },
     "output_type": "display_data"
    }
   ],
   "source": [
    "for col in new_data.select_dtypes('float'):\n",
    "    plt.subplots(figsize=(8, 5))\n",
    "    sns.distplot(new_data[col])"
   ]
  },
  {
   "cell_type": "markdown",
   "metadata": {},
   "source": [
    "<p style=\"font-size: 17px\">\n",
    "On ne peut rien dire sur les distributions de ces variables car elles ne suivent aucune loi usuelle et sont complexes.\n",
    "</p>"
   ]
  },
  {
   "cell_type": "markdown",
   "metadata": {},
   "source": [
    "#### Analyse de corrélations"
   ]
  },
  {
   "cell_type": "code",
   "execution_count": 21,
   "metadata": {},
   "outputs": [
    {
     "data": {
      "image/png": "[encoded data removed]",
      "text/plain": [
       "<Figure size 720x432 with 2 Axes>"
      ]
     },
     "metadata": {
      "needs_background": "light"
     },
     "output_type": "display_data"
    }
   ],
   "source": [
    "f, ax = plt.subplots(figsize=(10, 6))\n",
    "corr = new_data.iloc[:, 2:].corr()\n",
    "hm = sns.heatmap(round(corr,2), annot=True, ax=ax, cmap=\"coolwarm\",fmt='.2f',\n",
    "                 linewidths=.05)\n",
    "f.subplots_adjust(top=0.93)\n",
    "t= f.suptitle('Data Correlation', fontsize=14)"
   ]
  },
  {
   "cell_type": "markdown",
   "metadata": {},
   "source": [
    "<p style=\"font-size: 17px\">\n",
    "D'après la matrice de corrélation, on peut assumer que l'énergie est négativement corrélée à l'eau (-0.85) et positivement corrélée aux lipides (0.85). De même, la corrélation entre l'eau et les glucides est négative (-0.67). \n",
    "</p>"
   ]
  },
  {
   "cell_type": "markdown",
   "metadata": {},
   "source": [
    "### 4 - Préparation des données à classifier"
   ]
  },
  {
   "cell_type": "markdown",
   "metadata": {},
   "source": [
    "<p style=\"font-size: 17px\">\n",
    "Après l'analyse exploratoire de données, nous passons la classification de données en clusters. Pour ce faire, nous utiliserons énergie, eau, protéines, glucides et lipides comme données à partitionner en différents clusters.\n",
    "</p>"
   ]
  },
  {
   "cell_type": "code",
   "execution_count": 22,
   "metadata": {},
   "outputs": [],
   "source": [
    "data_to_classify = np.array(new_data.iloc[:, 2:]) # Sélection de Energie, Eau, Protéines, Glucides et Lipides"
   ]
  },
  {
   "cell_type": "code",
   "execution_count": 23,
   "metadata": {},
   "outputs": [
    {
     "name": "stdout",
     "output_type": "stream",
     "text": [
      "[[179.    60.3    4.88  23.7    6.7 ]\n",
      " [130.    75.8    4.5    8.87   8.3 ]\n",
      " [ 29.9   93.2    0.94   3.07   0.7 ]\n",
      " ...\n",
      " [391.     1.8   10.    81.1    2.  ]\n",
      " [439.     3.     7.5   73.3   12.3 ]\n",
      " [396.     1.2    8.5   85.     1.9 ]]\n"
     ]
    }
   ],
   "source": [
    "print(data_to_classify)"
   ]
  },
  {
   "cell_type": "markdown",
   "metadata": {},
   "source": [
    "### 5 - Sélection du meilleur k utilisant la méthode Elbow"
   ]
  },
  {
   "cell_type": "markdown",
   "metadata": {},
   "source": [
    "<p style=\"font-size: 17px\">\n",
    "Nous utilisons la méthode Elbow afin de déterminer le nombre de clusters permettant de bien partitionner ces données. Nous avons répété cette méthode 5 fois (voir ci-dessous) et il s'est avéré qu'on pouvait prendre 3 ou 4 comme nombre de clusters permettant de segmenter ce jeu de données. En prenant k=4, on arrive à bien partitionner les données en clusters. Ce qui serait optimal pour la classification des aliments. En d'autres termes, k=4 est le compromis entre la variance et le nombre de clusters.\n",
    "</p>"
   ]
  },
  {
   "cell_type": "code",
   "execution_count": 24,
   "metadata": {},
   "outputs": [
    {
     "data": {
      "image/png": "[encoded data removed]",
      "text/plain": [
       "<Figure size 576x432 with 1 Axes>"
      ]
     },
     "metadata": {
      "needs_background": "light"
     },
     "output_type": "display_data"
    },
    {
     "data": {
      "image/png": "[encoded data removed]",
      "text/plain": [
       "<Figure size 576x432 with 1 Axes>"
      ]
     },
     "metadata": {
      "needs_background": "light"
     },
     "output_type": "display_data"
    },
    {
     "data": {
      "image/png": "[encoded data removed]",
      "text/plain": [
       "<Figure size 576x432 with 1 Axes>"
      ]
     },
     "metadata": {
      "needs_background": "light"
     },
     "output_type": "display_data"
    },
    {
     "data": {
      "image/png": "[encoded data removed]",
      "text/plain": [
       "<Figure size 576x432 with 1 Axes>"
      ]
     },
     "metadata": {
      "needs_background": "light"
     },
     "output_type": "display_data"
    },
    {
     "data": {
      "image/png": "[encoded data removed]",
      "text/plain": [
       "<Figure size 576x432 with 1 Axes>"
      ]
     },
     "metadata": {
      "needs_background": "light"
     },
     "output_type": "display_data"
    }
   ],
   "source": [
    "max_cluster = 8\n",
    "iterations = 1000\n",
    "\n",
    "for _ in range(5):\n",
    "    \n",
    "    variances = []\n",
    "    for k in range(2, max_cluster+1):\n",
    "        kmeans = KMeans(k=k, n_iterations=iterations)\n",
    "        kmeans.fit(data_to_classify)\n",
    "        V = 0\n",
    "\n",
    "        for j in range(k):\n",
    "            for x_j in kmeans.clusters[j]:\n",
    "                dist = np.linalg.norm(kmeans.centroids[j] - x_j,  axis=0)\n",
    "                V += dist * dist\n",
    "\n",
    "        variances.append(V)\n",
    "\n",
    "    plt.figure(figsize=(8, 6))\n",
    "    plt.plot(range(2, max_cluster+1), variances)\n",
    "    plt.xlabel(\"Nombre de clusters\")\n",
    "    plt.ylabel(\"Variance\")\n",
    "    plt.show()"
   ]
  },
  {
   "cell_type": "markdown",
   "metadata": {},
   "source": [
    "### 6 - Application de la méthode KMeans avec k=4"
   ]
  },
  {
   "cell_type": "code",
   "execution_count": 92,
   "metadata": {},
   "outputs": [],
   "source": [
    "kmeans = KMeans(k=4, n_iterations=1000)\n",
    "kmeans.fit(data_to_classify)\n",
    "predict = kmeans.predict(data_to_classify)"
   ]
  },
  {
   "cell_type": "code",
   "execution_count": 93,
   "metadata": {},
   "outputs": [
    {
     "data": {
      "image/png": "[encoded data removed]",
      "text/plain": [
       "<Figure size 720x576 with 1 Axes>"
      ]
     },
     "metadata": {
      "needs_background": "light"
     },
     "output_type": "display_data"
    }
   ],
   "source": [
    "plt.figure(figsize=(10, 8))\n",
    "for k in range(kmeans.k):    \n",
    "    label_x, label_y = [], []\n",
    "    for point in kmeans.clusters[k]:\n",
    "        label_x.append(point[0])\n",
    "        label_y.append(point[1])\n",
    "    plt.scatter(label_x, label_y, s=10,label='cluster'+str(k+1))\n",
    "\n",
    "    plt.scatter(kmeans.centroids[k][0], kmeans.centroids[k][1], marker='*', s=300, c='r', label='Centroide')\n",
    "\n",
    "plt.legend()\n",
    "plt.show()"
   ]
  },
  {
   "cell_type": "code",
   "execution_count": 94,
   "metadata": {},
   "outputs": [],
   "source": [
    "new_data[\"Cluster\"] = predict # Création de la colonne contenant les clusters"
   ]
  },
  {
   "cell_type": "code",
   "execution_count": 95,
   "metadata": {},
   "outputs": [
    {
     "data": {
      "text/html": [
       "<div>\n",
       "<style scoped>\n",
       "    .dataframe tbody tr th:only-of-type {\n",
       "        vertical-align: middle;\n",
       "    }\n",
       "\n",
       "    .dataframe tbody tr th {\n",
       "        vertical-align: top;\n",
       "    }\n",
       "\n",
       "    .dataframe thead th {\n",
       "        text-align: right;\n",
       "    }\n",
       "</style>\n",
       "<table border=\"1\" class=\"dataframe\">\n",
       "  <thead>\n",
       "    <tr style=\"text-align: right;\">\n",
       "      <th></th>\n",
       "      <th>Groupe</th>\n",
       "      <th>Nom</th>\n",
       "      <th>Energie</th>\n",
       "      <th>Eau</th>\n",
       "      <th>Protéines</th>\n",
       "      <th>Glucides</th>\n",
       "      <th>Lipides</th>\n",
       "      <th>Cluster</th>\n",
       "    </tr>\n",
       "  </thead>\n",
       "  <tbody>\n",
       "    <tr>\n",
       "      <th>5</th>\n",
       "      <td>entrées et plats composés</td>\n",
       "      <td>Taboulé ou Salade de couscous, préemballé</td>\n",
       "      <td>179.0</td>\n",
       "      <td>60.3</td>\n",
       "      <td>4.88</td>\n",
       "      <td>23.70</td>\n",
       "      <td>6.7</td>\n",
       "      <td>1</td>\n",
       "    </tr>\n",
       "    <tr>\n",
       "      <th>6</th>\n",
       "      <td>entrées et plats composés</td>\n",
       "      <td>Salade de pomme de terre à la piémontaise, pré...</td>\n",
       "      <td>130.0</td>\n",
       "      <td>75.8</td>\n",
       "      <td>4.50</td>\n",
       "      <td>8.87</td>\n",
       "      <td>8.3</td>\n",
       "      <td>1</td>\n",
       "    </tr>\n",
       "    <tr>\n",
       "      <th>9</th>\n",
       "      <td>entrées et plats composés</td>\n",
       "      <td>Crudité, sans assaisonnement (aliment moyen)</td>\n",
       "      <td>29.9</td>\n",
       "      <td>93.2</td>\n",
       "      <td>0.94</td>\n",
       "      <td>3.07</td>\n",
       "      <td>0.7</td>\n",
       "      <td>2</td>\n",
       "    </tr>\n",
       "    <tr>\n",
       "      <th>13</th>\n",
       "      <td>entrées et plats composés</td>\n",
       "      <td>Salade végétale à base de boulgour et/ou quino...</td>\n",
       "      <td>168.0</td>\n",
       "      <td>65.5</td>\n",
       "      <td>4.06</td>\n",
       "      <td>17.40</td>\n",
       "      <td>8.3</td>\n",
       "      <td>1</td>\n",
       "    </tr>\n",
       "    <tr>\n",
       "      <th>16</th>\n",
       "      <td>entrées et plats composés</td>\n",
       "      <td>Salade de chou ou Coleslaw, avec sauce, préemb...</td>\n",
       "      <td>105.0</td>\n",
       "      <td>80.4</td>\n",
       "      <td>0.94</td>\n",
       "      <td>5.78</td>\n",
       "      <td>8.1</td>\n",
       "      <td>2</td>\n",
       "    </tr>\n",
       "    <tr>\n",
       "      <th>...</th>\n",
       "      <td>...</td>\n",
       "      <td>...</td>\n",
       "      <td>...</td>\n",
       "      <td>...</td>\n",
       "      <td>...</td>\n",
       "      <td>...</td>\n",
       "      <td>...</td>\n",
       "      <td>...</td>\n",
       "    </tr>\n",
       "    <tr>\n",
       "      <th>3181</th>\n",
       "      <td>aliments infantiles</td>\n",
       "      <td>Dessert lacté infantile nature sucré ou aux fr...</td>\n",
       "      <td>100.0</td>\n",
       "      <td>77.7</td>\n",
       "      <td>3.13</td>\n",
       "      <td>12.50</td>\n",
       "      <td>3.5</td>\n",
       "      <td>2</td>\n",
       "    </tr>\n",
       "    <tr>\n",
       "      <th>3182</th>\n",
       "      <td>aliments infantiles</td>\n",
       "      <td>Céréales instantanées, poudre à reconstituer, ...</td>\n",
       "      <td>393.0</td>\n",
       "      <td>2.2</td>\n",
       "      <td>5.10</td>\n",
       "      <td>88.30</td>\n",
       "      <td>1.7</td>\n",
       "      <td>1</td>\n",
       "    </tr>\n",
       "    <tr>\n",
       "      <th>3183</th>\n",
       "      <td>aliments infantiles</td>\n",
       "      <td>Céréales instantanées, poudre à reconstituer, ...</td>\n",
       "      <td>391.0</td>\n",
       "      <td>1.8</td>\n",
       "      <td>10.00</td>\n",
       "      <td>81.10</td>\n",
       "      <td>2.0</td>\n",
       "      <td>1</td>\n",
       "    </tr>\n",
       "    <tr>\n",
       "      <th>3184</th>\n",
       "      <td>aliments infantiles</td>\n",
       "      <td>Biscuit pour bébé</td>\n",
       "      <td>439.0</td>\n",
       "      <td>3.0</td>\n",
       "      <td>7.50</td>\n",
       "      <td>73.30</td>\n",
       "      <td>12.3</td>\n",
       "      <td>1</td>\n",
       "    </tr>\n",
       "    <tr>\n",
       "      <th>3185</th>\n",
       "      <td>aliments infantiles</td>\n",
       "      <td>Poudre cacaotée pour bébé</td>\n",
       "      <td>396.0</td>\n",
       "      <td>1.2</td>\n",
       "      <td>8.50</td>\n",
       "      <td>85.00</td>\n",
       "      <td>1.9</td>\n",
       "      <td>1</td>\n",
       "    </tr>\n",
       "  </tbody>\n",
       "</table>\n",
       "<p>1757 rows × 8 columns</p>\n",
       "</div>"
      ],
      "text/plain": [
       "                         Groupe  \\\n",
       "5     entrées et plats composés   \n",
       "6     entrées et plats composés   \n",
       "9     entrées et plats composés   \n",
       "13    entrées et plats composés   \n",
       "16    entrées et plats composés   \n",
       "...                         ...   \n",
       "3181        aliments infantiles   \n",
       "3182        aliments infantiles   \n",
       "3183        aliments infantiles   \n",
       "3184        aliments infantiles   \n",
       "3185        aliments infantiles   \n",
       "\n",
       "                                                    Nom  Energie   Eau  \\\n",
       "5             Taboulé ou Salade de couscous, préemballé    179.0  60.3   \n",
       "6     Salade de pomme de terre à la piémontaise, pré...    130.0  75.8   \n",
       "9          Crudité, sans assaisonnement (aliment moyen)     29.9  93.2   \n",
       "13    Salade végétale à base de boulgour et/ou quino...    168.0  65.5   \n",
       "16    Salade de chou ou Coleslaw, avec sauce, préemb...    105.0  80.4   \n",
       "...                                                 ...      ...   ...   \n",
       "3181  Dessert lacté infantile nature sucré ou aux fr...    100.0  77.7   \n",
       "3182  Céréales instantanées, poudre à reconstituer, ...    393.0   2.2   \n",
       "3183  Céréales instantanées, poudre à reconstituer, ...    391.0   1.8   \n",
       "3184                                  Biscuit pour bébé    439.0   3.0   \n",
       "3185                          Poudre cacaotée pour bébé    396.0   1.2   \n",
       "\n",
       "      Protéines  Glucides  Lipides  Cluster  \n",
       "5          4.88     23.70      6.7        1  \n",
       "6          4.50      8.87      8.3        1  \n",
       "9          0.94      3.07      0.7        2  \n",
       "13         4.06     17.40      8.3        1  \n",
       "16         0.94      5.78      8.1        2  \n",
       "...         ...       ...      ...      ...  \n",
       "3181       3.13     12.50      3.5        2  \n",
       "3182       5.10     88.30      1.7        1  \n",
       "3183      10.00     81.10      2.0        1  \n",
       "3184       7.50     73.30     12.3        1  \n",
       "3185       8.50     85.00      1.9        1  \n",
       "\n",
       "[1757 rows x 8 columns]"
      ]
     },
     "execution_count": 95,
     "metadata": {},
     "output_type": "execute_result"
    }
   ],
   "source": [
    "new_data"
   ]
  },
  {
   "cell_type": "markdown",
   "metadata": {},
   "source": [
    "#### Regroupement des aliments par cluster"
   ]
  },
  {
   "cell_type": "code",
   "execution_count": 96,
   "metadata": {},
   "outputs": [],
   "source": [
    "foods_0 = new_data[new_data['Cluster'] == 0]\n",
    "foods_1 = new_data[new_data['Cluster'] == 1]\n",
    "foods_2 = new_data[new_data['Cluster'] == 2]\n",
    "foods_3 = new_data[new_data['Cluster'] == 3]"
   ]
  },
  {
   "cell_type": "markdown",
   "metadata": {},
   "source": [
    "#### Aliments de cluster 0"
   ]
  },
  {
   "cell_type": "code",
   "execution_count": 97,
   "metadata": {},
   "outputs": [
    {
     "data": {
      "text/plain": [
       "102"
      ]
     },
     "execution_count": 97,
     "metadata": {},
     "output_type": "execute_result"
    }
   ],
   "source": [
    "len(foods_0)"
   ]
  },
  {
   "cell_type": "code",
   "execution_count": 98,
   "metadata": {},
   "outputs": [
    {
     "data": {
      "text/plain": [
       "viandes, œufs, poissons et assimilés      85\n",
       "entrées et plats composés                 14\n",
       "produits laitiers et assimilés             2\n",
       "aides culinaires et ingrédients divers     1\n",
       "Name: Groupe, dtype: int64"
      ]
     },
     "execution_count": 98,
     "metadata": {},
     "output_type": "execute_result"
    }
   ],
   "source": [
    "foods_0[\"Groupe\"].value_counts()"
   ]
  },
  {
   "cell_type": "markdown",
   "metadata": {},
   "source": [
    "#### Aliments de cluster 1"
   ]
  },
  {
   "cell_type": "code",
   "execution_count": 99,
   "metadata": {},
   "outputs": [
    {
     "data": {
      "text/plain": [
       "1100"
      ]
     },
     "execution_count": 99,
     "metadata": {},
     "output_type": "execute_result"
    }
   ],
   "source": [
    "len(foods_1)"
   ]
  },
  {
   "cell_type": "code",
   "execution_count": 100,
   "metadata": {},
   "outputs": [
    {
     "data": {
      "text/plain": [
       "viandes, œufs, poissons et assimilés           394\n",
       "entrées et plats composés                      172\n",
       "produits céréaliers                            120\n",
       "produits sucrés                                110\n",
       "aides culinaires et ingrédients divers          81\n",
       "matières grasses                                68\n",
       "produits laitiers et assimilés                  63\n",
       "fruits, légumes, légumineuses et oléagineux     54\n",
       "eaux et autres boissons                         23\n",
       "glaces et sorbets                               10\n",
       "aliments infantiles                              5\n",
       "Name: Groupe, dtype: int64"
      ]
     },
     "execution_count": 100,
     "metadata": {},
     "output_type": "execute_result"
    }
   ],
   "source": [
    "foods_1[\"Groupe\"].value_counts()"
   ]
  },
  {
   "cell_type": "markdown",
   "metadata": {},
   "source": [
    "#### Aliments de cluster 2"
   ]
  },
  {
   "cell_type": "code",
   "execution_count": 101,
   "metadata": {},
   "outputs": [
    {
     "data": {
      "text/plain": [
       "550"
      ]
     },
     "execution_count": 101,
     "metadata": {},
     "output_type": "execute_result"
    }
   ],
   "source": [
    "len(foods_2)"
   ]
  },
  {
   "cell_type": "code",
   "execution_count": 102,
   "metadata": {},
   "outputs": [
    {
     "data": {
      "text/plain": [
       "fruits, légumes, légumineuses et oléagineux    197\n",
       "eaux et autres boissons                        149\n",
       "produits laitiers et assimilés                  63\n",
       "entrées et plats composés                       58\n",
       "aides culinaires et ingrédients divers          27\n",
       "aliments infantiles                             26\n",
       "viandes, œufs, poissons et assimilés            25\n",
       "produits céréaliers                              5\n",
       "Name: Groupe, dtype: int64"
      ]
     },
     "execution_count": 102,
     "metadata": {},
     "output_type": "execute_result"
    }
   ],
   "source": [
    "foods_2[\"Groupe\"].value_counts()"
   ]
  },
  {
   "cell_type": "code",
   "execution_count": 103,
   "metadata": {},
   "outputs": [
    {
     "data": {
      "text/plain": [
       "5"
      ]
     },
     "execution_count": 103,
     "metadata": {},
     "output_type": "execute_result"
    }
   ],
   "source": [
    "len(foods_3)"
   ]
  },
  {
   "cell_type": "code",
   "execution_count": 104,
   "metadata": {},
   "outputs": [
    {
     "data": {
      "text/plain": [
       "aides culinaires et ingrédients divers    4\n",
       "matières grasses                          1\n",
       "Name: Groupe, dtype: int64"
      ]
     },
     "execution_count": 104,
     "metadata": {},
     "output_type": "execute_result"
    }
   ],
   "source": [
    "foods_3[\"Groupe\"].value_counts()"
   ]
  },
  {
   "cell_type": "markdown",
   "metadata": {},
   "source": [
    "## Conclusion"
   ]
  },
  {
   "cell_type": "markdown",
   "metadata": {},
   "source": [
    "<p style=\"font-size: 17px\">\n",
    "Avec k=4, la méthode de KMeans implémentée arrive à bien former 4 clusters (groupes) des données qui sont \"$homogènes$\". Un cluster contient les aliments de types : aides culinaires et ingrédients divers, matières grasses. Il existe deux clusters contenant presque les mêmes informations et regroupant les viandes, œufs, poissons et assimilés, les entrées et plats composés, les produits céréaliers, sucrés, laitiers et assimilés. Enfin, le dernier concerne les fruits, légumes, légumineuses et oléagineux, les eaux et autres boissons. <br/><br/>\n",
    "<b>Hypothèse</b><br/>\n",
    "Ces clusters peuvent être bénéfiques pour une entreprise spécialisée dans la vente des aliments contenant les constituants suivants: énergie, eau, protéines, glucides et lipides. Il semblerait qu'un client achétant un produit appartant à un de ces clusters pourrait achéter d'autres produits du même cluster. Ceci dit, si l'entreprise suit la segmentation engendrée par cette méthode, elle pourrait augmenter son chiffre d'affaires. Mais cette hypothèse reste à vérifier. En somme, cette vérification sera l'objet de notre futur travail. En d'autres termes, nous contacterons quelques épiceries en leur proposant cette segmentation de produits. Après une longue durée (mois ou années), nous sérons en mesure d'approuver ou réfuter notre hypothèse.<br/><br/>\n",
    "Enfin, comme tout algorithme, K-Means présente des avantages et des inconvénients. En effet, il est simple et facile à comprendre. Cependant, il ne permet pas de trouver des groupes ayant des formes complexes. Il est aussi lent car il nécessite de faire passer plusieurs fois les observations. De plus, la solution dépend du choix initial des centres de classes et de l'ordre des données (individus).\n",
    "</p>"
   ]
  },
  {
   "cell_type": "markdown",
   "metadata": {},
   "source": [
    "## Références"
   ]
  },
  {
   "cell_type": "markdown",
   "metadata": {},
   "source": [
    "<p style=\"font-size: 17px\">\n",
    "[1] Quelle distance choisir en machine learning, Pensée Artificielle, url: <a href=\"https://penseeartificielle.fr/choisir-distance-machine-learning/\" target=\"_blank\">Lien</a><br/><br/>\n",
    "[2] Youguo Li, Haiyan Wu, \"A Clustering Method Based on K-Means Algorithm\", International Conference on Solid State Devices and Materials Science, 2012<br/><br/> \n",
    "[3] <a href=\"https://ciqual.anses.fr/\" target=\"_blank\">Site de l'ANSES (France)</a><br/><br/>\n",
    "[4] Table de composition nutritionnelle des aliments Ciqual 2020, Contexte et présentation générale,p.1<br/><br/>\n",
    "[5] Table de composition nutritionnelle des aliments Ciqual 2020, Documentation, p.1<br/><br/>\n",
    "</p>"
   ]
  }
 ],
 "metadata": {
  "kernelspec": {
   "display_name": "Python 3",
   "language": "python",
   "name": "python3"
  },
  "language_info": {
   "codemirror_mode": {
    "name": "ipython",
    "version": 3
   },
   "file_extension": ".py",
   "mimetype": "text/x-python",
   "name": "python",
   "nbconvert_exporter": "python",
   "pygments_lexer": "ipython3",
   "version": "3.8.3"
  }
 },
 "nbformat": 4,
 "nbformat_minor": 4
}
